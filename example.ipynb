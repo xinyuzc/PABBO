{
 "cells": [
  {
   "cell_type": "code",
   "execution_count": 1,
   "metadata": {},
   "outputs": [],
   "source": [
    "import torch \n",
    "import numpy as np\n",
    "from typing import Sequence\n",
    "\n",
    "import matplotlib.pyplot as plt\n",
    "import matplotlib.cm as cm\n",
    "import matplotlib.pyplot as plt\n",
    "from evaluate import evaluate\n",
    "from data.kernel import *\n",
    "from inspect import getmembers, isfunction\n",
    "\n",
    "\n",
    "%reload_ext autoreload\n",
    "%autoreload 2"
   ]
  },
  {
   "cell_type": "code",
   "execution_count": 2,
   "metadata": {},
   "outputs": [],
   "source": [
    "from itertools import combinations"
   ]
  },
  {
   "cell_type": "code",
   "execution_count": 17,
   "metadata": {},
   "outputs": [
    {
     "name": "stdout",
     "output_type": "stream",
     "text": [
      "tensor([[ 0,  6, 11],\n",
      "        [ 5, 10, 15]])\n",
      "tensor([[0.2833, 0.0578, 0.8244],\n",
      "        [0.5581, 0.7745, 0.6147]])\n",
      "tensor([[ 1.4166,  6.2312, 14.2975],\n",
      "        [ 2.7904,  9.0980, 13.4589]])\n"
     ]
    }
   ],
   "source": [
    "x = torch.rand(2, 3)\n",
    "bound = torch.tensor([[0, 5], [6, 10], [11, 15]]).T\n",
    "print(bound)\n",
    "print(x)\n",
    "x_scale = bound[0] + x.clone() * (\n",
    "                bound[1] - bound[0]\n",
    "            )  # NOTE scale X to test range\n",
    "print(x_scale)"
   ]
  },
  {
   "cell_type": "code",
   "execution_count": 12,
   "metadata": {},
   "outputs": [
    {
     "name": "stdout",
     "output_type": "stream",
     "text": [
      "[[2 4]\n",
      " [4 7]\n",
      " [0 9]]\n",
      "torch.Size([3, 2])\n",
      "tensor([[ 1.0223, -2.2910],\n",
      "        [-2.2910,  0.3795],\n",
      "        [ 0.2926, -0.2054]])\n",
      "[ True False  True]\n",
      "[[4 2]\n",
      " [4 7]\n",
      " [9 0]]\n"
     ]
    }
   ],
   "source": [
    "num_points = 10\n",
    "n_comp = 3\n",
    "y = torch.randn(num_points, 1)\n",
    "all_combinations = np.array(list(combinations(range(y.shape[0]), 2)))\n",
    "comp = all_combinations[\n",
    "            np.random.choice(range(len(all_combinations)), n_comp, replace=False)\n",
    "        ]\n",
    "print(comp)\n",
    "comp_y = y[comp].squeeze(-1)\n",
    "# squeeze(-1) # (num_points, num_comp, 2)\n",
    "print(comp_y.shape)\n",
    "flip_indices = (\n",
    "            (comp_y[..., 0] > comp_y[..., 1]).squeeze(-1).cpu().numpy()\n",
    "        )\n",
    "print(comp_y)\n",
    "print(flip_indices)\n",
    "comp[flip_indices, :] = np.flip(comp[flip_indices, :], 1)\n",
    "print(comp)"
   ]
  },
  {
   "cell_type": "code",
   "execution_count": 2,
   "metadata": {},
   "outputs": [],
   "source": [
    "from utils.log import TensorAverager"
   ]
  },
  {
   "cell_type": "code",
   "execution_count": 3,
   "metadata": {},
   "outputs": [],
   "source": [
    "ravg = TensorAverager()"
   ]
  },
  {
   "cell_type": "code",
   "execution_count": 7,
   "metadata": {},
   "outputs": [
    {
     "name": "stdout",
     "output_type": "stream",
     "text": [
      "tensor([3])\n",
      "tensor([2])\n",
      "tensor([6])\n",
      "tensor([1])\n",
      "tensor([2])\n",
      "tensor([9])\n",
      "tensor([9])\n"
     ]
    }
   ],
   "source": [
    "D = 1\n",
    "bx = list()\n",
    "ravg.clear()\n",
    "for t in range(7): \n",
    "    x = torch.randint(0,10,(1,))\n",
    "    print(x)\n",
    "    bx.append(x)\n",
    "    ravg.update(\"x\", x)\n"
   ]
  },
  {
   "cell_type": "code",
   "execution_count": 8,
   "metadata": {},
   "outputs": [
    {
     "name": "stdout",
     "output_type": "stream",
     "text": [
      "tensor([4.5714])\n"
     ]
    }
   ],
   "source": [
    "bx = torch.stack(bx, dim=0).float().mean(dim=0)\n",
    "print(bx)"
   ]
  },
  {
   "cell_type": "code",
   "execution_count": 14,
   "metadata": {},
   "outputs": [
    {
     "name": "stdout",
     "output_type": "stream",
     "text": [
      "torch.Size([6])\n"
     ]
    }
   ],
   "source": [
    "tmp = [torch.randn(1) for _ in range(6)]\n",
    "tmp = torch.cat(tmp, dim=0)\n",
    "print(tmp.shape)"
   ]
  },
  {
   "cell_type": "code",
   "execution_count": 9,
   "metadata": {},
   "outputs": [
    {
     "name": "stdout",
     "output_type": "stream",
     "text": [
      "tensor([4.5714])\n"
     ]
    }
   ],
   "source": [
    "ax = ravg.get(\"x\")\n",
    "print(ax)"
   ]
  },
  {
   "cell_type": "code",
   "execution_count": null,
   "metadata": {},
   "outputs": [],
   "source": [
    "\n",
    "print(globals()[\"rbf\"])"
   ]
  },
  {
   "cell_type": "code",
   "execution_count": null,
   "metadata": {},
   "outputs": [],
   "source": [
    "functions_list = getmembers(kernel, isfunction)\n",
    "print(functions_list)"
   ]
  },
  {
   "cell_type": "code",
   "execution_count": null,
   "metadata": {},
   "outputs": [],
   "source": [
    "from data.utils import *\n",
    "from PABBO.data.sampler import * \n",
    "\n",
    "\n",
    "data = torch.load(\"datasets/GP2D_initial_pairs.pt\")[\"0\"]\n",
    "\n",
    "fig = plt.figure(figsize=(18, 5))\n",
    "for b in range(4):\n",
    "    sampler = SimpleGPSampler(\n",
    "                    kernel_function=globals()[\n",
    "                        data[\"sampler_kwargs\"][b][\"kernel_function\"]\n",
    "                    ],\n",
    "                    mean=data[\"sampler_kwargs\"][b][\"mean\"],\n",
    "                    jitter=data[\"sampler_kwargs\"][b][\"jitter\"],\n",
    "                )\n",
    "    utility = OptimizationFunction(\n",
    "                    sampler=sampler, **data[\"function_kwargs\"][b]\n",
    "    )\n",
    "\n",
    "\n",
    "    pred_train_y = utility(utility.train_X)\n",
    "\n",
    "    ax = fig.add_subplot(1, 4, b+1, projection='3d')\n",
    "    ax.scatter(utility.train_X[:, 0], utility.train_X[:, 1], pred_train_y, alpha=0.1)\n",
    "    opt_y = utility(utility.Xopt)\n",
    "    ax.scatter(utility.Xopt[:, 0], utility.Xopt[:, 1], opt_y, c=\"orange\")\n"
   ]
  },
  {
   "cell_type": "markdown",
   "metadata": {},
   "source": [
    "We provide a minimal implementation of the source code to reproduce our ablation experiments on meta-training datasets. While we have tried our best to make the code as clear and instructive as possible within the limited time, we apologize for any potential oversights or errors.\n",
    "\n",
    "**Dependencies**: `pip install -r requirements`\n",
    "\n",
    "**Experiments**: To evaluate a specific PABBO model, you can use the `evaluate` function from `evaluate.py` as follows:\n",
    "\n",
    "1. Command Line Execution. \n",
    "    \n",
    "    Run the command:\n",
    "    ```bash \n",
    "    python evaluate.py --model_name PABBO_RBF\n",
    "    ```\n",
    "    Here, `model_name` can be either \"PABBO_RBF\" or \"PABBO_Mixture\". For convenience, a batch script (`run.sh`) is also provided.\n",
    "\n",
    "2. Notebook Execution. \n",
    "    \n",
    "    Alternatively, you can execute this notebook. Note that this approach may take quite an amount of time.\n",
    "\n",
    "Results will be saved in the directory `evaluation/results/model_name` and will include the following three files:\n",
    "\n",
    "- `SIMPLE_REGRET.pt`\n",
    "- `STEP_SIMPLE_REGRET.pt`\n",
    "- `CUMULATIVE_REGRET.pt`\n",
    "\n",
    "Each file contains a `torch.tensor` of shape `(num_seed, T)`, representing the regrets collected along the trajectory, averaged across tasks, and evaluated under different random seeds.\n"
   ]
  },
  {
   "cell_type": "code",
   "execution_count": null,
   "metadata": {},
   "outputs": [],
   "source": [
    "override = False\n",
    "if override: \n",
    "    SIMPLE_REGRET_RBF, SIMPLE_STEP_REGRET_RBF, CUMULATIVE_REGRET_RBF = evaluate(model_name=\"PABBO_RBF\")\n",
    "    SIMPLE_REGRET_Mixture, SIMPLE_STEP_REGRET_Mixture, CUMULATIVE_REGRET_Mixture = evaluate(model_name=\"PABBO_Mixture\")\n",
    "else: \n",
    "    SIMPLE_REGRET_RBF = torch.load(\"evaluation/results/PABBO_RBF/SIMPLE_REGRET.pt\")\n",
    "    CUMULATIVE_REGRET_RBF = torch.load(\"evaluation/results/PABBO_RBF/CUMULATIVE_REGRET.pt\")\n",
    "    SIMPLE_REGRET_Mixture = torch.load(\"evaluation/results/PABBO_Mixture/SIMPLE_REGRET.pt\")\n",
    "    CUMULATIVE_REGRET_Mixture = torch.load(\"evaluation/results/PABBO_Mixture/CUMULATIVE_REGRET.pt\")"
   ]
  },
  {
   "cell_type": "markdown",
   "metadata": {},
   "source": [
    "Plot the results:"
   ]
  },
  {
   "cell_type": "code",
   "execution_count": null,
   "metadata": {},
   "outputs": [],
   "source": [
    "def confidence_interval(value: np.ndarray):\n",
    "    return 1.96 * value.std(axis=0) / np.sqrt(value.shape[0])\n",
    "\n",
    "def plot_trajectory_information(\n",
    "    trajectories: Sequence[np.ndarray], \n",
    "    model_names: Sequence, \n",
    "    ax, \n",
    "):\n",
    "    \"\"\"plot optmimzation collected along trajectories.\n",
    "    Args: \n",
    "        trajectories, list: a list of np.ndarray of shape (B, T).\n",
    "        model_names, list: a list of model names.\n",
    "    \"\"\"\n",
    "    M = len(trajectories)\n",
    "    colors = cm.rainbow(np.linspace(0, 1, M))\n",
    "\n",
    "    for i, (model_tra, c) in enumerate(zip(trajectories, colors)):\n",
    "        x = np.arange(1, model_tra.shape[-1] + 1)\n",
    "        mean = model_tra.mean(axis=0).flatten()\n",
    "        ci = confidence_interval(model_tra)\n",
    "        ax.plot(x, mean, \"o-\", color=c, label=f\"{model_names[i]}\")\n",
    "        ax.fill_between(x, mean + ci, mean - ci, alpha=0.3, color=c)\n",
    "        \n",
    "    return ax\n"
   ]
  },
  {
   "cell_type": "code",
   "execution_count": null,
   "metadata": {},
   "outputs": [],
   "source": [
    "SIMPLE_REGRET_TRA = [SIMPLE_REGRET_RBF, SIMPLE_REGRET_Mixture]\n",
    "CUMULATIVE_REGRET_TRA = [CUMULATIVE_REGRET_RBF, CUMULATIVE_REGRET_Mixture]\n",
    "model_names = [\"PABBO RBF\", \"PABBO Mixture\"]\n",
    "\n",
    "fig = plt.figure(figsize=(15, 6))\n",
    "ax = fig.add_subplot(1, 2, 1)\n",
    "ax = plot_trajectory_information(SIMPLE_REGRET_TRA, model_names, ax)\n",
    "ax.set_ylabel(\"Simple regret\")\n",
    "ax.set_xlabel(\"Step\")\n",
    "ax.set_yscale(\"log\")\n",
    "ax = fig.add_subplot(1, 2, 2)\n",
    "ax = plot_trajectory_information(CUMULATIVE_REGRET_TRA, model_names, ax)\n",
    "ax.set_yscale(\"log\")\n",
    "ax.set_ylabel(\"Cumulative regret\")\n",
    "ax.set_xlabel(\"Step\")\n",
    "\n",
    "# fig.suptitle(\"PABBO RBF v.s. PABBO Mixture\")\n",
    "handles, labels = fig.axes[0].get_legend_handles_labels()\n",
    "fig.legend(handles, labels, ncol=len(labels), loc=\"lower center\", bbox_to_anchor=(0.5, -0.05))\n",
    "plt.tight_layout()\n",
    "plt.show()"
   ]
  },
  {
   "cell_type": "code",
   "execution_count": null,
   "metadata": {},
   "outputs": [],
   "source": []
  }
 ],
 "metadata": {
  "kernelspec": {
   "display_name": "Python 3",
   "language": "python",
   "name": "python3"
  },
  "language_info": {
   "codemirror_mode": {
    "name": "ipython",
    "version": 3
   },
   "file_extension": ".py",
   "mimetype": "text/x-python",
   "name": "python",
   "nbconvert_exporter": "python",
   "pygments_lexer": "ipython3",
   "version": "3.9.18"
  }
 },
 "nbformat": 4,
 "nbformat_minor": 2
}
